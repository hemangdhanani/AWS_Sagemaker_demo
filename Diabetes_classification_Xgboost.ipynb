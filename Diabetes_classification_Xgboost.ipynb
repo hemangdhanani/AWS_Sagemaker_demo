{
 "cells": [
  {
   "cell_type": "code",
   "execution_count": 62,
   "id": "73c2020e",
   "metadata": {},
   "outputs": [],
   "source": [
    "import os \n",
    "import pandas as pd\n",
    "import numpy as np\n",
    "import matplotlib.pyplot as plt\n",
    "from sklearn.model_selection import train_test_split\n",
    "\n",
    "#Sagemaker specific libraries\n",
    "import sagemaker \n",
    "from sagemaker import get_execution_role\n",
    "from sagemaker.amazon.amazon_estimator import get_image_uri\n",
    "from sagemaker.predictor import csv_serializer\n",
    "from sagemaker.session import s3_input, Session\n"
   ]
  },
  {
   "cell_type": "code",
   "execution_count": 39,
   "id": "7b2c5bfa",
   "metadata": {},
   "outputs": [
    {
     "name": "stdout",
     "output_type": "stream",
     "text": [
      "us-east-1\n"
     ]
    }
   ],
   "source": [
    "bucket_name = 'diabetesbucket10' # <--- CHANGE THIS VARIABLE TO A UNIQUE NAME FOR YOUR BUCKET\n",
    "my_region = boto3.session.Session().region_name # set the region of the instance\n",
    "print(my_region)"
   ]
  },
  {
   "cell_type": "code",
   "execution_count": 48,
   "id": "c0c546e7",
   "metadata": {},
   "outputs": [
    {
     "name": "stdout",
     "output_type": "stream",
     "text": [
      "S3 bucket created successfully\n"
     ]
    }
   ],
   "source": [
    "s3 = boto3.resource('s3')\n",
    "try:\n",
    "    if  my_region == 'us-east-1':\n",
    "        s3.create_bucket(Bucket=bucket_name)\n",
    "    print('S3 bucket created successfully')\n",
    "except Exception as e:\n",
    "    print('S3 error: ',e)"
   ]
  },
  {
   "cell_type": "markdown",
   "id": "7d61767f",
   "metadata": {},
   "source": [
    "<h3>Downloading The Dataset And Storing in S3<h3>"
   ]
  },
  {
   "cell_type": "code",
   "execution_count": 63,
   "id": "f1d93a56",
   "metadata": {},
   "outputs": [
    {
     "name": "stdout",
     "output_type": "stream",
     "text": [
      "Success: Data loaded into dataframe.\n",
      "             Glucose  BloodPressure  SkinThickness  Insulin   BMI  \\\n",
      "Pregnancies                                                         \n",
      "6                148             72             35        0  33.6   \n",
      "1                 85             66             29        0  26.6   \n",
      "8                183             64              0        0  23.3   \n",
      "1                 89             66             23       94  28.1   \n",
      "0                137             40             35      168  43.1   \n",
      "\n",
      "             DiabetesPedigreeFunction  Age  Outcome  \n",
      "Pregnancies                                          \n",
      "6                               0.627   50        1  \n",
      "1                               0.351   31        0  \n",
      "8                               0.672   32        1  \n",
      "1                               0.167   21        0  \n",
      "0                               2.288   33        1  \n"
     ]
    }
   ],
   "source": [
    "import pandas as pd\n",
    "import urllib\n",
    "try:\n",
    "    urllib.request.urlretrieve (\"https://www.kaggle.com/datasets/mathchi/diabetes-data-set/download\", \"diabetes.csv\")\n",
    "    print('Success: downloaded diabetes.csv.')\n",
    "except Exception as e:\n",
    "    print('Data load error: ',e)\n",
    "\n",
    "try:\n",
    "    df = pd.read_csv('./diabetes.csv',index_col=0)\n",
    "    print('Success: Data loaded into dataframe.')\n",
    "    print(df.head(5))\n",
    "except Exception as e:\n",
    "    print('Data load error: ',e)"
   ]
  },
  {
   "cell_type": "code",
   "execution_count": 64,
   "id": "38cb35ab",
   "metadata": {},
   "outputs": [
    {
     "data": {
      "text/plain": [
       "Index(['Glucose', 'BloodPressure', 'SkinThickness', 'Insulin', 'BMI',\n",
       "       'DiabetesPedigreeFunction', 'Age', 'Outcome'],\n",
       "      dtype='object')"
      ]
     },
     "execution_count": 64,
     "metadata": {},
     "output_type": "execute_result"
    }
   ],
   "source": [
    "df.columns"
   ]
  },
  {
   "cell_type": "markdown",
   "id": "b7a2e4dd",
   "metadata": {},
   "source": [
    "<h3> Remove outliers <h3>"
   ]
  },
  {
   "cell_type": "code",
   "execution_count": 65,
   "id": "138a8f4d",
   "metadata": {},
   "outputs": [],
   "source": [
    "def remove_outliers(df):\n",
    "    return df[\n",
    "              (df['Glucose'] >= 37.125) & \n",
    "              (df['Glucose'] <= 202.125) & \n",
    "              (df['BloodPressure'] >= 35.000) & \n",
    "              (df['BloodPressure'] <= 107.000) & \n",
    "              (df['BMI'] >= 13.350) & \n",
    "              (df['BMI'] <= 50.550) \n",
    "              ]"
   ]
  },
  {
   "cell_type": "code",
   "execution_count": 66,
   "id": "ba5b3bbc",
   "metadata": {},
   "outputs": [],
   "source": [
    "df = remove_outliers(df)"
   ]
  },
  {
   "cell_type": "code",
   "execution_count": 67,
   "id": "39004a78",
   "metadata": {},
   "outputs": [],
   "source": [
    "train_data = df[:500]\n",
    "test_data = df[501:]"
   ]
  },
  {
   "cell_type": "markdown",
   "id": "447938ac",
   "metadata": {},
   "source": [
    "<h3> Storing Train and test data in S3 bucket <h3>"
   ]
  },
  {
   "cell_type": "code",
   "execution_count": 68,
   "id": "ebc4e31e",
   "metadata": {},
   "outputs": [],
   "source": [
    "pd.concat([train_data['Outcome'], train_data.drop(['Outcome'], axis=1)],axis=1).to_csv('train.csv', index=False, header=False)"
   ]
  },
  {
   "cell_type": "code",
   "execution_count": 69,
   "id": "15a4b826",
   "metadata": {},
   "outputs": [],
   "source": [
    "boto3.Session().resource('s3').Bucket(bucket_name).Object(os.path.join(prefix, 'train/train.csv')).upload_file('train.csv')"
   ]
  },
  {
   "cell_type": "code",
   "execution_count": 70,
   "id": "bc85dffd",
   "metadata": {},
   "outputs": [],
   "source": [
    "s3_input_train = sagemaker.TrainingInput(s3_data=f's3://{bucket_name}/{prefix}/train', content_type='csv')"
   ]
  },
  {
   "cell_type": "code",
   "execution_count": null,
   "id": "c99fc2a7",
   "metadata": {},
   "outputs": [],
   "source": []
  },
  {
   "cell_type": "code",
   "execution_count": 71,
   "id": "62608bac",
   "metadata": {},
   "outputs": [],
   "source": [
    "pd.concat([test_data['Outcome'], test_data.drop(['Outcome'], axis=1)],axis=1).to_csv('test.csv', index=False, header=False)"
   ]
  },
  {
   "cell_type": "code",
   "execution_count": 72,
   "id": "0403a7d1",
   "metadata": {},
   "outputs": [],
   "source": [
    "boto3.Session().resource('s3').Bucket(bucket_name).Object(os.path.join(prefix, 'test/test.csv')).upload_file('test.csv')"
   ]
  },
  {
   "cell_type": "code",
   "execution_count": 73,
   "id": "034d52f1",
   "metadata": {},
   "outputs": [],
   "source": [
    "s3_input_test = sagemaker.TrainingInput(s3_data=f's3://{bucket_name}/{prefix}/test', content_type='csv')"
   ]
  },
  {
   "cell_type": "markdown",
   "id": "3cc08774",
   "metadata": {},
   "source": [
    "<h3> loading inbuilt Xgboost algo using Image_URI <h3>"
   ]
  },
  {
   "cell_type": "code",
   "execution_count": 74,
   "id": "f67658f5",
   "metadata": {},
   "outputs": [
    {
     "name": "stderr",
     "output_type": "stream",
     "text": [
      "The method get_image_uri has been renamed in sagemaker>=2.\n",
      "See: https://sagemaker.readthedocs.io/en/stable/v2.html for details.\n"
     ]
    }
   ],
   "source": [
    "# this line automatically looks for the XGBoost image URI and builds an XGBoost container.\n",
    "# specify the repo_version depending on your preference.\n",
    "container = get_image_uri(boto3.Session().region_name,\n",
    "                          'xgboost', \n",
    "                          repo_version='1.0-1')"
   ]
  },
  {
   "cell_type": "code",
   "execution_count": 75,
   "id": "645c74f9",
   "metadata": {},
   "outputs": [],
   "source": [
    "# initialize hyperparameters\n",
    "hyperparameters = {\n",
    "        \"max_depth\":\"5\",\n",
    "        \"eta\":\"0.2\",\n",
    "        \"gamma\":\"4\",\n",
    "        \"min_child_weight\":\"6\",\n",
    "        \"subsample\":\"0.7\",\n",
    "        \"objective\":\"binary:logistic\",\n",
    "        \"num_round\":50\n",
    "        }"
   ]
  },
  {
   "cell_type": "code",
   "execution_count": 77,
   "id": "e5826060",
   "metadata": {},
   "outputs": [
    {
     "name": "stderr",
     "output_type": "stream",
     "text": [
      "train_instance_count has been renamed in sagemaker>=2.\n",
      "See: https://sagemaker.readthedocs.io/en/stable/v2.html for details.\n",
      "train_instance_type has been renamed in sagemaker>=2.\n",
      "See: https://sagemaker.readthedocs.io/en/stable/v2.html for details.\n",
      "train_max_run has been renamed in sagemaker>=2.\n",
      "See: https://sagemaker.readthedocs.io/en/stable/v2.html for details.\n",
      "train_use_spot_instances has been renamed in sagemaker>=2.\n",
      "See: https://sagemaker.readthedocs.io/en/stable/v2.html for details.\n",
      "train_max_wait has been renamed in sagemaker>=2.\n",
      "See: https://sagemaker.readthedocs.io/en/stable/v2.html for details.\n",
      "train_volume_size has been renamed in sagemaker>=2.\n",
      "See: https://sagemaker.readthedocs.io/en/stable/v2.html for details.\n"
     ]
    }
   ],
   "source": [
    "# construct a SageMaker estimator that calls the xgboost-container\n",
    "estimator = sagemaker.estimator.Estimator(image_uri=container, \n",
    "                                          hyperparameters=hyperparameters,\n",
    "                                          role=sagemaker.get_execution_role(),\n",
    "                                          train_instance_count=1, \n",
    "                                          train_instance_type='ml.m5.2xlarge', \n",
    "                                          train_volume_size=5, # 5 GB \n",
    "                                          output_path=output_path,\n",
    "                                          train_use_spot_instances=True,\n",
    "                                          train_max_run=300,\n",
    "                                          train_max_wait=600)"
   ]
  },
  {
   "cell_type": "markdown",
   "id": "e4c2f5b7",
   "metadata": {},
   "source": [
    "<h3> fitting Xgboost model <h3>"
   ]
  },
  {
   "cell_type": "code",
   "execution_count": 78,
   "id": "159dfa0a",
   "metadata": {},
   "outputs": [
    {
     "name": "stdout",
     "output_type": "stream",
     "text": [
      "2022-04-11 04:36:30 Starting - Starting the training job...\n",
      "2022-04-11 04:36:54 Starting - Launching requested ML instancesProfilerReport-1649651790: InProgress\n",
      ".........\n",
      "2022-04-11 04:38:15 Starting - Preparing the instances for training......\n",
      "2022-04-11 04:39:17 Downloading - Downloading input data...\n",
      "2022-04-11 04:39:59 Training - Training image download completed. Training in progress.\n",
      "2022-04-11 04:39:59 Uploading - Uploading generated training model\u001b[34mINFO:sagemaker-containers:Imported framework sagemaker_xgboost_container.training\u001b[0m\n",
      "\u001b[34mINFO:sagemaker-containers:Failed to parse hyperparameter objective value binary:logistic to Json.\u001b[0m\n",
      "\u001b[34mReturning the value itself\u001b[0m\n",
      "\u001b[34mINFO:sagemaker-containers:No GPUs detected (normal if no gpus installed)\u001b[0m\n",
      "\u001b[34mINFO:sagemaker_xgboost_container.training:Running XGBoost Sagemaker in algorithm mode\u001b[0m\n",
      "\u001b[34mINFO:root:Determined delimiter of CSV input is ','\u001b[0m\n",
      "\u001b[34mINFO:root:Determined delimiter of CSV input is ','\u001b[0m\n",
      "\u001b[34mINFO:root:Determined delimiter of CSV input is ','\u001b[0m\n",
      "\u001b[34m[04:39:51] 500x7 matrix with 3500 entries loaded from /opt/ml/input/data/train?format=csv&label_column=0&delimiter=,\u001b[0m\n",
      "\u001b[34mINFO:root:Determined delimiter of CSV input is ','\u001b[0m\n",
      "\u001b[34m[04:39:51] 208x7 matrix with 1456 entries loaded from /opt/ml/input/data/validation?format=csv&label_column=0&delimiter=,\u001b[0m\n",
      "\u001b[34mINFO:root:Single node training.\u001b[0m\n",
      "\u001b[34mINFO:root:Train matrix has 500 rows\u001b[0m\n",
      "\u001b[34mINFO:root:Validation matrix has 208 rows\u001b[0m\n",
      "\u001b[34m[04:39:51] WARNING: /workspace/src/learner.cc:328: \u001b[0m\n",
      "\u001b[34mParameters: { num_round } might not be used.\n",
      "  This may not be accurate due to some parameters are only used in language bindings but\n",
      "  passed down to XGBoost core.  Or some parameters are not used but slip through this\n",
      "  verification. Please open an issue if you find above cases.\u001b[0m\n",
      "\u001b[34m[0]#011train-error:0.20400#011validation-error:0.21635\u001b[0m\n",
      "\u001b[34m[1]#011train-error:0.20600#011validation-error:0.22115\u001b[0m\n",
      "\u001b[34m[2]#011train-error:0.21000#011validation-error:0.20192\u001b[0m\n",
      "\u001b[34m[3]#011train-error:0.20800#011validation-error:0.19712\u001b[0m\n",
      "\u001b[34m[4]#011train-error:0.20800#011validation-error:0.22596\u001b[0m\n",
      "\u001b[34m[5]#011train-error:0.20000#011validation-error:0.20192\u001b[0m\n",
      "\u001b[34m[6]#011train-error:0.20400#011validation-error:0.20192\u001b[0m\n",
      "\u001b[34m[7]#011train-error:0.20200#011validation-error:0.20192\u001b[0m\n",
      "\u001b[34m[8]#011train-error:0.19800#011validation-error:0.19231\u001b[0m\n",
      "\u001b[34m[9]#011train-error:0.19000#011validation-error:0.22596\u001b[0m\n",
      "\u001b[34m[10]#011train-error:0.19600#011validation-error:0.21635\u001b[0m\n",
      "\u001b[34m[11]#011train-error:0.19400#011validation-error:0.21635\u001b[0m\n",
      "\u001b[34m[12]#011train-error:0.19600#011validation-error:0.19712\u001b[0m\n",
      "\u001b[34m[13]#011train-error:0.19200#011validation-error:0.21635\u001b[0m\n",
      "\u001b[34m[14]#011train-error:0.19200#011validation-error:0.21154\u001b[0m\n",
      "\u001b[34m[15]#011train-error:0.18400#011validation-error:0.21154\u001b[0m\n",
      "\u001b[34m[16]#011train-error:0.18400#011validation-error:0.21154\u001b[0m\n",
      "\u001b[34m[17]#011train-error:0.18400#011validation-error:0.21154\u001b[0m\n",
      "\u001b[34m[18]#011train-error:0.19000#011validation-error:0.22115\u001b[0m\n",
      "\u001b[34m[19]#011train-error:0.18800#011validation-error:0.22115\u001b[0m\n",
      "\u001b[34m[20]#011train-error:0.18400#011validation-error:0.22115\u001b[0m\n",
      "\u001b[34m[21]#011train-error:0.18800#011validation-error:0.22115\u001b[0m\n",
      "\u001b[34m[22]#011train-error:0.18000#011validation-error:0.22115\u001b[0m\n",
      "\u001b[34m[23]#011train-error:0.18000#011validation-error:0.21635\u001b[0m\n",
      "\u001b[34m[24]#011train-error:0.18000#011validation-error:0.21635\u001b[0m\n",
      "\u001b[34m[25]#011train-error:0.18000#011validation-error:0.21635\u001b[0m\n",
      "\u001b[34m[26]#011train-error:0.18200#011validation-error:0.22596\u001b[0m\n",
      "\u001b[34m[27]#011train-error:0.18400#011validation-error:0.21154\u001b[0m\n",
      "\u001b[34m[28]#011train-error:0.18000#011validation-error:0.21154\u001b[0m\n",
      "\u001b[34m[29]#011train-error:0.18200#011validation-error:0.21154\u001b[0m\n",
      "\u001b[34m[30]#011train-error:0.17800#011validation-error:0.21635\u001b[0m\n",
      "\u001b[34m[31]#011train-error:0.18600#011validation-error:0.21154\u001b[0m\n",
      "\u001b[34m[32]#011train-error:0.18800#011validation-error:0.21154\u001b[0m\n",
      "\u001b[34m[33]#011train-error:0.18600#011validation-error:0.21154\u001b[0m\n",
      "\u001b[34m[34]#011train-error:0.17000#011validation-error:0.22596\u001b[0m\n",
      "\u001b[34m[35]#011train-error:0.17200#011validation-error:0.20673\u001b[0m\n",
      "\u001b[34m[36]#011train-error:0.17400#011validation-error:0.21635\u001b[0m\n",
      "\u001b[34m[37]#011train-error:0.17000#011validation-error:0.21154\u001b[0m\n",
      "\u001b[34m[38]#011train-error:0.17000#011validation-error:0.21154\u001b[0m\n",
      "\u001b[34m[39]#011train-error:0.17000#011validation-error:0.21154\u001b[0m\n",
      "\u001b[34m[40]#011train-error:0.16400#011validation-error:0.21154\u001b[0m\n",
      "\u001b[34m[41]#011train-error:0.16400#011validation-error:0.22115\u001b[0m\n",
      "\u001b[34m[42]#011train-error:0.16600#011validation-error:0.22115\u001b[0m\n",
      "\u001b[34m[43]#011train-error:0.16200#011validation-error:0.21154\u001b[0m\n",
      "\u001b[34m[44]#011train-error:0.16400#011validation-error:0.21635\u001b[0m\n",
      "\u001b[34m[45]#011train-error:0.16200#011validation-error:0.21154\u001b[0m\n",
      "\u001b[34m[46]#011train-error:0.16200#011validation-error:0.21635\u001b[0m\n",
      "\u001b[34m[47]#011train-error:0.16200#011validation-error:0.21635\u001b[0m\n",
      "\u001b[34m[48]#011train-error:0.17000#011validation-error:0.22115\u001b[0m\n",
      "\u001b[34m[49]#011train-error:0.17000#011validation-error:0.21635\u001b[0m\n",
      "\n",
      "2022-04-11 04:40:56 Completed - Training job completed\n",
      "ProfilerReport-1649651790: NoIssuesFound\n",
      "Training seconds: 86\n",
      "Billable seconds: 43\n",
      "Managed Spot Training savings: 50.0%\n"
     ]
    }
   ],
   "source": [
    "estimator.fit({'train': s3_input_train,'validation': s3_input_test})"
   ]
  },
  {
   "cell_type": "code",
   "execution_count": 79,
   "id": "1f274890",
   "metadata": {},
   "outputs": [
    {
     "name": "stdout",
     "output_type": "stream",
     "text": [
      "---------!"
     ]
    }
   ],
   "source": [
    "xgb_predictor = estimator.deploy(initial_instance_count=1,instance_type='ml.m4.xlarge')"
   ]
  },
  {
   "cell_type": "markdown",
   "id": "3f6e18d7",
   "metadata": {},
   "source": [
    "<h3>Prediction of the Test Data<h3>"
   ]
  },
  {
   "cell_type": "code",
   "execution_count": 81,
   "id": "6109010f",
   "metadata": {},
   "outputs": [
    {
     "name": "stderr",
     "output_type": "stream",
     "text": [
      "The csv_serializer has been renamed in sagemaker>=2.\n",
      "See: https://sagemaker.readthedocs.io/en/stable/v2.html for details.\n"
     ]
    },
    {
     "name": "stdout",
     "output_type": "stream",
     "text": [
      "(208,)\n"
     ]
    }
   ],
   "source": [
    "from sagemaker.predictor import csv_serializer\n",
    "test_data_array = test_data.drop(['Outcome'], axis=1).values #load the data into an array\n",
    "# xgb_predictor.content_type = 'text/csv' # set the data type for an inference\n",
    "xgb_predictor.serializer = csv_serializer # set the serializer type\n",
    "predictions = xgb_predictor.predict(test_data_array).decode('utf-8') # predict!\n",
    "predictions_array = np.fromstring(predictions[1:], sep=',') # and turn the prediction into an array\n",
    "print(predictions_array.shape)"
   ]
  },
  {
   "cell_type": "code",
   "execution_count": 82,
   "id": "19668d6f",
   "metadata": {},
   "outputs": [
    {
     "data": {
      "text/plain": [
       "array([0.25837237, 0.88907993, 0.07490061, 0.05733732, 0.31068006,\n",
       "       0.04407503, 0.05078761, 0.08358879, 0.10220534, 0.24982712,\n",
       "       0.29974994, 0.10301007, 0.32218549, 0.85109955, 0.03148065,\n",
       "       0.09582039, 0.1280203 , 0.02273622, 0.0803147 , 0.31999657,\n",
       "       0.7500093 , 0.32090965, 0.14054459, 0.08024   , 0.13389057,\n",
       "       0.04272237, 0.3726334 , 0.17845099, 0.16516468, 0.19404469,\n",
       "       0.23200519, 0.85694027, 0.47961697, 0.03445728, 0.23990381,\n",
       "       0.2252503 , 0.47498739, 0.03313931, 0.32064769, 0.12032562,\n",
       "       0.93575692, 0.76879472, 0.1044215 , 0.45365161, 0.07218668,\n",
       "       0.75411201, 0.71582121, 0.11474105, 0.72983932, 0.07110569,\n",
       "       0.10026456, 0.20030557, 0.64835614, 0.35435724, 0.72213125,\n",
       "       0.04264032, 0.44472352, 0.02594095, 0.12379211, 0.89755249,\n",
       "       0.86328948, 0.4563975 , 0.79393119, 0.03570756, 0.1482055 ,\n",
       "       0.03096173, 0.46561995, 0.28894666, 0.05981681, 0.8612572 ,\n",
       "       0.05825692, 0.11510886, 0.08971408, 0.03275129, 0.29855695,\n",
       "       0.35993278, 0.02033195, 0.40840143, 0.11963684, 0.07118991,\n",
       "       0.08641401, 0.03262602, 0.43683258, 0.22566521, 0.04955257,\n",
       "       0.22156705, 0.02590016, 0.13124678, 0.3226496 , 0.23031843,\n",
       "       0.21730492, 0.74696344, 0.77203107, 0.84624147, 0.36032674,\n",
       "       0.06318286, 0.01863123, 0.20290706, 0.24570251, 0.137768  ,\n",
       "       0.09126312, 0.65713394, 0.02929444, 0.75459802, 0.33977905,\n",
       "       0.11354185, 0.6484369 , 0.77976102, 0.8501184 , 0.5086695 ,\n",
       "       0.49129301, 0.1207171 , 0.3796328 , 0.18756247, 0.33115834,\n",
       "       0.54689157, 0.91876519, 0.03313931, 0.1003827 , 0.14901534,\n",
       "       0.9252643 , 0.45471352, 0.10433953, 0.11792523, 0.04306284,\n",
       "       0.02956353, 0.85335827, 0.05737568, 0.37656873, 0.52802557,\n",
       "       0.08067087, 0.14767596, 0.10285893, 0.67274934, 0.14600506,\n",
       "       0.22618093, 0.57373089, 0.02149634, 0.53151309, 0.73969626,\n",
       "       0.35750547, 0.39141226, 0.20352286, 0.36829811, 0.86610544,\n",
       "       0.04454421, 0.06762819, 0.11332519, 0.80667883, 0.07008775,\n",
       "       0.57335162, 0.36393565, 0.64165539, 0.14895172, 0.23717126,\n",
       "       0.91592032, 0.90809762, 0.06363084, 0.256044  , 0.16819713,\n",
       "       0.06361205, 0.17597663, 0.42672172, 0.47517708, 0.57352436,\n",
       "       0.34870455, 0.21310221, 0.41022319, 0.63768655, 0.05060925,\n",
       "       0.17100586, 0.13232681, 0.74703497, 0.12337248, 0.09057082,\n",
       "       0.12395635, 0.0959941 , 0.18166211, 0.05940856, 0.39551809,\n",
       "       0.80880994, 0.15781619, 0.07951887, 0.69301587, 0.71567923,\n",
       "       0.3334991 , 0.44983637, 0.13556615, 0.88132137, 0.5155127 ,\n",
       "       0.50313991, 0.21679905, 0.04450225, 0.6638419 , 0.76056421,\n",
       "       0.66256577, 0.60739958, 0.50813997, 0.08525684, 0.78702891,\n",
       "       0.06311045, 0.92361951, 0.03149929, 0.51912445, 0.26529053,\n",
       "       0.12781011, 0.44816744, 0.05818446])"
      ]
     },
     "execution_count": 82,
     "metadata": {},
     "output_type": "execute_result"
    }
   ],
   "source": [
    "predictions_array"
   ]
  },
  {
   "cell_type": "code",
   "execution_count": 85,
   "id": "2d1a9581",
   "metadata": {},
   "outputs": [
    {
     "name": "stdout",
     "output_type": "stream",
     "text": [
      "\n",
      "Overall Classification Rate: 78.4%\n",
      "\n",
      "Predicted      No diabetes    diabetes\n",
      "Observed\n",
      "No diabetes    81% (123)    29% (16)\n",
      "diabetes        19% (29)     71% (40) \n",
      "\n"
     ]
    }
   ],
   "source": [
    "cm = pd.crosstab(index=test_data['Outcome'], columns=np.round(predictions_array), rownames=['Observed'], colnames=['Predicted'])\n",
    "tn = cm.iloc[0,0]; fn = cm.iloc[1,0]; tp = cm.iloc[1,1]; fp = cm.iloc[0,1]; p = (tp+tn)/(tp+tn+fp+fn)*100\n",
    "print(\"\\n{0:<20}{1:<4.1f}%\\n\".format(\"Overall Classification Rate: \", p))\n",
    "print(\"{0:<15}{1:<15}{2:>8}\".format(\"Predicted\", \"No diabetes\", \"diabetes\"))\n",
    "print(\"Observed\")\n",
    "print(\"{0:<15}{1:<2.0f}% ({2:<}){3:>6.0f}% ({4:<})\".format(\"No diabetes\", tn/(tn+fn)*100,tn, fp/(tp+fp)*100, fp))\n",
    "print(\"{0:<16}{1:<1.0f}% ({2:<}){3:>7.0f}% ({4:<}) \\n\".format(\"diabetes\", fn/(tn+fn)*100,fn, tp/(tp+fp)*100, tp))"
   ]
  },
  {
   "cell_type": "markdown",
   "id": "82266669",
   "metadata": {},
   "source": [
    "<h3>Deleting The Endpoints <h3>"
   ]
  },
  {
   "cell_type": "code",
   "execution_count": 86,
   "id": "f8fcdefb",
   "metadata": {},
   "outputs": [
    {
     "name": "stderr",
     "output_type": "stream",
     "text": [
      "The endpoint attribute has been renamed in sagemaker>=2.\n",
      "See: https://sagemaker.readthedocs.io/en/stable/v2.html for details.\n"
     ]
    },
    {
     "data": {
      "text/plain": [
       "[{'ResponseMetadata': {'RequestId': 'ABQCCEQR8B85E8N7',\n",
       "   'HostId': '5/1Qm3+rBxXgBJf5xsziW3dNI5Uyeqq9P7jpgXojm/gdH80LAqbEoMvu3ZpZZmaTDx//ks1dzxA=',\n",
       "   'HTTPStatusCode': 200,\n",
       "   'HTTPHeaders': {'x-amz-id-2': '5/1Qm3+rBxXgBJf5xsziW3dNI5Uyeqq9P7jpgXojm/gdH80LAqbEoMvu3ZpZZmaTDx//ks1dzxA=',\n",
       "    'x-amz-request-id': 'ABQCCEQR8B85E8N7',\n",
       "    'date': 'Mon, 11 Apr 2022 04:50:59 GMT',\n",
       "    'content-type': 'application/xml',\n",
       "    'transfer-encoding': 'chunked',\n",
       "    'server': 'AmazonS3',\n",
       "    'connection': 'close'},\n",
       "   'RetryAttempts': 0},\n",
       "  'Deleted': [{'Key': 'diabetes-problem/test/test.csv'},\n",
       "   {'Key': 'diabetes-problem/output/sagemaker-xgboost-2022-04-11-04-36-30-107/profiler-output/system/training_job_end.ts'},\n",
       "   {'Key': 'diabetes-problem/output/sagemaker-xgboost-2022-04-11-04-36-30-107/profiler-output/framework/training_job_end.ts'},\n",
       "   {'Key': 'diabetes-problem/train/train.csv'},\n",
       "   {'Key': 'diabetes-problem/output/sagemaker-xgboost-2022-04-11-04-36-30-107/output/model.tar.gz'},\n",
       "   {'Key': 'diabetes-problem/output/sagemaker-xgboost-2022-04-11-04-36-30-107/profiler-output/system/incremental/2022041104/1649651940.algo-1.json'}]}]"
      ]
     },
     "execution_count": 86,
     "metadata": {},
     "output_type": "execute_result"
    }
   ],
   "source": [
    "sagemaker.Session().delete_endpoint(xgb_predictor.endpoint)\n",
    "bucket_to_delete = boto3.resource('s3').Bucket(bucket_name)\n",
    "bucket_to_delete.objects.all().delete()"
   ]
  },
  {
   "cell_type": "code",
   "execution_count": null,
   "id": "879740a7",
   "metadata": {},
   "outputs": [],
   "source": []
  },
  {
   "cell_type": "code",
   "execution_count": null,
   "id": "b76bf4da",
   "metadata": {},
   "outputs": [],
   "source": []
  },
  {
   "cell_type": "code",
   "execution_count": null,
   "id": "aa96b14b",
   "metadata": {},
   "outputs": [],
   "source": []
  }
 ],
 "metadata": {
  "kernelspec": {
   "display_name": "conda_python3",
   "language": "python",
   "name": "conda_python3"
  },
  "language_info": {
   "codemirror_mode": {
    "name": "ipython",
    "version": 3
   },
   "file_extension": ".py",
   "mimetype": "text/x-python",
   "name": "python",
   "nbconvert_exporter": "python",
   "pygments_lexer": "ipython3",
   "version": "3.6.13"
  }
 },
 "nbformat": 4,
 "nbformat_minor": 5
}
